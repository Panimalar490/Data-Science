{
 "cells": [
  {
   "cell_type": "code",
   "execution_count": 10,
   "id": "c5cf2927",
   "metadata": {},
   "outputs": [
    {
     "name": "stdout",
     "output_type": "stream",
     "text": [
      "Dividing by 0\n"
     ]
    }
   ],
   "source": [
    "# Exceptional Handling\n",
    "try:\n",
    "    val=100/0\n",
    "    num=int(input(\"Enter number:\"))\n",
    "    print(num)\n",
    "except ZeroDivisionError:\n",
    "    print(\"Dividing by 0\")\n",
    "except ValueError:\n",
    "    print(\"invalid Input\")"
   ]
  },
  {
   "cell_type": "code",
   "execution_count": 11,
   "id": "97595df0",
   "metadata": {},
   "outputs": [
    {
     "name": "stdout",
     "output_type": "stream",
     "text": [
      "Enter the age10\n",
      "10\n"
     ]
    }
   ],
   "source": [
    "def age(value):\n",
    "    print(value)\n",
    "inp=int(input(\"Enter the age\"))\n",
    "age(inp)"
   ]
  },
  {
   "cell_type": "code",
   "execution_count": 16,
   "id": "0340de81",
   "metadata": {},
   "outputs": [
    {
     "name": "stdout",
     "output_type": "stream",
     "text": [
      "Enter the age20\n",
      "20\n"
     ]
    }
   ],
   "source": [
    "\n",
    "def age(value):\n",
    "    assert value>0,\"Please give a correct age\"\n",
    "    print(value)\n",
    "inp=int(input(\"Enter the age\"))\n",
    "age(inp)"
   ]
  },
  {
   "cell_type": "code",
   "execution_count": 17,
   "id": "773b5864",
   "metadata": {},
   "outputs": [
    {
     "name": "stdout",
     "output_type": "stream",
     "text": [
      "1.0\n",
      "0.5\n",
      "0.3333333333333333\n"
     ]
    },
    {
     "ename": "TypeError",
     "evalue": "unsupported operand type(s) for /: 'int' and 'str'",
     "output_type": "error",
     "traceback": [
      "\u001b[1;31m---------------------------------------------------------------------------\u001b[0m",
      "\u001b[1;31mTypeError\u001b[0m                                 Traceback (most recent call last)",
      "\u001b[1;32m~\\AppData\\Local\\Temp/ipykernel_6652/4076659442.py\u001b[0m in \u001b[0;36m<module>\u001b[1;34m\u001b[0m\n\u001b[0;32m      1\u001b[0m \u001b[0ma\u001b[0m\u001b[1;33m=\u001b[0m\u001b[1;33m[\u001b[0m\u001b[1;36m2\u001b[0m\u001b[1;33m,\u001b[0m\u001b[1;36m4\u001b[0m\u001b[1;33m,\u001b[0m\u001b[1;36m6\u001b[0m\u001b[1;33m,\u001b[0m\u001b[1;34m'a'\u001b[0m\u001b[1;33m,\u001b[0m\u001b[1;36m8\u001b[0m\u001b[1;33m,\u001b[0m\u001b[1;36m0\u001b[0m\u001b[1;33m]\u001b[0m\u001b[1;33m\u001b[0m\u001b[1;33m\u001b[0m\u001b[0m\n\u001b[0;32m      2\u001b[0m \u001b[1;32mfor\u001b[0m \u001b[0mi\u001b[0m \u001b[1;32min\u001b[0m \u001b[0ma\u001b[0m\u001b[1;33m:\u001b[0m\u001b[1;33m\u001b[0m\u001b[1;33m\u001b[0m\u001b[0m\n\u001b[1;32m----> 3\u001b[1;33m     \u001b[0mc\u001b[0m\u001b[1;33m=\u001b[0m\u001b[1;36m2\u001b[0m\u001b[1;33m/\u001b[0m\u001b[0mi\u001b[0m\u001b[1;33m\u001b[0m\u001b[1;33m\u001b[0m\u001b[0m\n\u001b[0m\u001b[0;32m      4\u001b[0m     \u001b[0mprint\u001b[0m\u001b[1;33m(\u001b[0m\u001b[0mc\u001b[0m\u001b[1;33m)\u001b[0m\u001b[1;33m\u001b[0m\u001b[1;33m\u001b[0m\u001b[0m\n",
      "\u001b[1;31mTypeError\u001b[0m: unsupported operand type(s) for /: 'int' and 'str'"
     ]
    }
   ],
   "source": [
    "a=[2,4,6,'a',8,0]\n",
    "for i in a:\n",
    "    c=2/i\n",
    "    print(c)"
   ]
  },
  {
   "cell_type": "code",
   "execution_count": 18,
   "id": "0f78910f",
   "metadata": {},
   "outputs": [
    {
     "name": "stdout",
     "output_type": "stream",
     "text": [
      "1.0\n",
      "0.5\n",
      "0.3333333333333333\n",
      "oops <class 'TypeError'> occured\n",
      "0.25\n",
      "oops <class 'ZeroDivisionError'> occured\n"
     ]
    }
   ],
   "source": [
    "import sys\n",
    "a=[2,4,6,'a',8,0]\n",
    "for i in a:\n",
    "    try:\n",
    "        c=2/i\n",
    "        print(c)\n",
    "    except:\n",
    "        print(\"oops\",sys.exc_info()[0],\"occured\")"
   ]
  },
  {
   "cell_type": "code",
   "execution_count": 19,
   "id": "ec3431e1",
   "metadata": {},
   "outputs": [
    {
     "name": "stdout",
     "output_type": "stream",
     "text": [
      "1.0\n",
      "oops <class 'NameError'> occured\n",
      "0.5\n",
      "oops <class 'NameError'> occured\n",
      "0.3333333333333333\n",
      "oops <class 'NameError'> occured\n",
      "oops <class 'TypeError'> occured\n",
      "0.25\n",
      "oops <class 'NameError'> occured\n",
      "oops <class 'ZeroDivisionError'> occured\n"
     ]
    }
   ],
   "source": [
    "# system defined Exception\n",
    "import sys\n",
    "a=[2,4,6,'a',8,0]\n",
    "for i in a:\n",
    "    try:\n",
    "        c=2/i\n",
    "        print(c)\n",
    "        b=x\n",
    "    except:\n",
    "        print(\"oops\",sys.exc_info()[0],\"occured\")"
   ]
  },
  {
   "cell_type": "code",
   "execution_count": 20,
   "id": "7e96f5eb",
   "metadata": {},
   "outputs": [
    {
     "ename": "SyntaxError",
     "evalue": "invalid syntax (Temp/ipykernel_6652/1614920555.py, line 11)",
     "output_type": "error",
     "traceback": [
      "\u001b[1;36m  File \u001b[1;32m\"C:\\Users\\pani\\AppData\\Local\\Temp/ipykernel_6652/1614920555.py\"\u001b[1;36m, line \u001b[1;32m11\u001b[0m\n\u001b[1;33m    except TooSmallError\u001b[0m\n\u001b[1;37m                        ^\u001b[0m\n\u001b[1;31mSyntaxError\u001b[0m\u001b[1;31m:\u001b[0m invalid syntax\n"
     ]
    }
   ],
   "source": [
    "# User defined Exception\n",
    "num=10\n",
    "while True:\n",
    "    try:\n",
    "        ch=int(input(\"enter the number\"))\n",
    "        if ch<10:\n",
    "            raise TooSmallError\n",
    "        elif ch>10:\n",
    "            raise TooLargeError\n",
    "        break\n",
    "    except TooSmallError\n",
    "        print(\"you entered too small number, plz try again\")\n",
    "    except TooLargeError\n",
    "        print(\"you entered too Large number, plz try again\")\n",
    "print(\"You entered correct number\")"
   ]
  },
  {
   "cell_type": "code",
   "execution_count": 23,
   "id": "472dc2f2",
   "metadata": {},
   "outputs": [
    {
     "name": "stdout",
     "output_type": "stream",
     "text": [
      "enter the number9\n",
      "you entered too small number, plz try again\n",
      "enter the number10\n",
      "You entered correct number\n"
     ]
    }
   ],
   "source": [
    "class Error(Exception):\n",
    "    pass  #Empty class\n",
    "class TooSmallError(Error):\n",
    "    pass\n",
    "class TooLargeError(Error):\n",
    "    pass\n",
    "num=10\n",
    "while True:\n",
    "    try:\n",
    "        ch=int(input(\"enter the number\"))\n",
    "        if ch<10:\n",
    "            raise TooSmallError\n",
    "        elif ch>10:\n",
    "            raise TooLargeError\n",
    "        break\n",
    "    except TooSmallError:\n",
    "        print(\"you entered too small number, plz try again\")\n",
    "    except TooLargeError:\n",
    "        print(\"you entered too Large number, plz try again\")\n",
    "print(\"You entered correct number\")"
   ]
  },
  {
   "cell_type": "code",
   "execution_count": 50,
   "id": "fb81c865",
   "metadata": {},
   "outputs": [
    {
     "name": "stdout",
     "output_type": "stream",
     "text": [
      "User Name:Panimalar\n",
      "Password:Abcd1233\n",
      "yor successfully Logged in :)\n"
     ]
    }
   ],
   "source": [
    "class Error(Exception):\n",
    "    pass  #Empty class\n",
    "class Selectalphabetsonly(Error):\n",
    "    pass\n",
    "while True:\n",
    "    try:\n",
    "        Username2=input(\"User Name:\")\n",
    "        if (Username2>='a'and Username2<='z') or(Username2>='A'and Username2<='Z'):\n",
    "            Password=input(\"Password:\")\n",
    "            if Password.isalnum():\n",
    "                print(\"yor successfully Logged in :)\")\n",
    "            else:\n",
    "                print(\"If not Register, Please Register\")\n",
    "        elif Username2.isalnum():\n",
    "            raise Selectalphabetsonly\n",
    "        break\n",
    "    except Selectalphabetsonly:\n",
    "        print(\"Kindly enter alphabetics only, plz try again\")\n"
   ]
  },
  {
   "cell_type": "code",
   "execution_count": 51,
   "id": "e19a30b9",
   "metadata": {},
   "outputs": [
    {
     "name": "stdout",
     "output_type": "stream",
     "text": [
      "User Name: Panimalar\n",
      "Password: AbCd123\n"
     ]
    }
   ],
   "source": [
    "Username1=input(\"User Name: \")\n",
    "Password1=input(\"Password: \")"
   ]
  },
  {
   "cell_type": "code",
   "execution_count": 53,
   "id": "97040afa",
   "metadata": {},
   "outputs": [
    {
     "name": "stdout",
     "output_type": "stream",
     "text": [
      "Panimalar\n"
     ]
    }
   ],
   "source": [
    "print(Username1)"
   ]
  },
  {
   "cell_type": "code",
   "execution_count": 62,
   "id": "6afa06cc",
   "metadata": {},
   "outputs": [
    {
     "name": "stdout",
     "output_type": "stream",
     "text": [
      "User Name: Panimalar\n",
      "Password: AbCd123\n",
      "yor successfully Logged in :)\n"
     ]
    }
   ],
   "source": [
    "class Error(Exception):\n",
    "    pass  #Empty class\n",
    "class Selectalphabetsonly(Error):\n",
    "    pass\n",
    "while True:\n",
    "    try:\n",
    "        User=input(\"User Name: \")\n",
    "        if User==Username1:\n",
    "            PC=input(\"Password: \")\n",
    "            if PC==Password1:\n",
    "                print(\"yor successfully Logged in :)\")\n",
    "            else:\n",
    "                print(\"If not Register, Please Register\")\n",
    "        elif User.isalnum():\n",
    "            raise Selectalphabetsonly\n",
    "        break\n",
    "    except Selectalphabetsonly:\n",
    "        print(\"Kindly enter alphabetics only, plz try again\")\n"
   ]
  },
  {
   "cell_type": "code",
   "execution_count": 68,
   "id": "7e97f283",
   "metadata": {},
   "outputs": [
    {
     "name": "stdout",
     "output_type": "stream",
     "text": [
      "User Name: Viney\n",
      "Password: 123@AbCd\n"
     ]
    }
   ],
   "source": [
    "Username1=input(\"User Name: \")\n",
    "Password1=input(\"Password: \")"
   ]
  },
  {
   "cell_type": "code",
   "execution_count": 69,
   "id": "1a323230",
   "metadata": {},
   "outputs": [
    {
     "name": "stdout",
     "output_type": "stream",
     "text": [
      "User Name: rewrt\n",
      "Incorrect User name, plz try again\n",
      "User Name: Viney\n",
      "Password: rert56453\n",
      "Incorrect Password, plz try again\n",
      "User Name: 123@AbCd\n",
      "Incorrect User name, plz try again\n",
      "User Name: Viney\n",
      "Password: 123@AbCd\n",
      "yor successfully Logged in :)\n"
     ]
    }
   ],
   "source": [
    "class Error(Exception):\n",
    "    pass  #Empty class\n",
    "class incorrectUsername(Error):\n",
    "    pass\n",
    "class incorrectPassword(Error):\n",
    "    pass\n",
    "while True:\n",
    "    try:\n",
    "        User=input(\"User Name: \")\n",
    "        if User==Username1:\n",
    "            PC=input(\"Password: \")\n",
    "            if PC==Password1:\n",
    "                print(\"yor successfully Logged in :)\")\n",
    "            else:\n",
    "                raise incorrectPassword\n",
    "        else:\n",
    "            raise incorrectUsername\n",
    "        break\n",
    "    except incorrectPassword:\n",
    "        print(\"Incorrect Password, plz try again\")\n",
    "    except incorrectUsername:\n",
    "        print(\"Incorrect User name, plz try again\")\n"
   ]
  },
  {
   "cell_type": "code",
   "execution_count": 110,
   "id": "42d3579f",
   "metadata": {},
   "outputs": [
    {
     "name": "stdout",
     "output_type": "stream",
     "text": [
      "User Name: Viney\n",
      "Password: sedrtfyu\n",
      "Incorrect Password, plz try again\n",
      "User Name: Viney\n",
      "Password: wertyui\n",
      "Incorrect Password, plz try again\n",
      "User Name: Viney\n",
      "Password: asedrtgyhuji\n",
      "Incorrect Password, plz try again\n"
     ]
    }
   ],
   "source": [
    "class Error(Exception):\n",
    "    pass  #Empty class\n",
    "class incorrectUsername(Error):\n",
    "    pass\n",
    "class incorrectPassword(Error):\n",
    "    pass\n",
    "i=0\n",
    "while True:\n",
    "    try:\n",
    "        User=input(\"User Name: \")\n",
    "        if User==Username1:\n",
    "            PC=input(\"Password: \")\n",
    "            if PC==Password1:\n",
    "                print(\"yor successfully Logged in :)\")\n",
    "            else:\n",
    "                raise incorrectPassword\n",
    "        else:\n",
    "            raise incorrectUsername\n",
    "        break\n",
    "    except incorrectPassword:\n",
    "        print(\"Incorrect Password, plz try again\")\n",
    "        i+=1\n",
    "        if(i==3):\n",
    "            break\n",
    "    except incorrectUsername:\n",
    "        print(\"Incorrect User name, plz try again\")\n",
    "        i+=1\n",
    "        if(i==3):\n",
    "            break\n"
   ]
  },
  {
   "cell_type": "code",
   "execution_count": null,
   "id": "70b6eb04",
   "metadata": {},
   "outputs": [],
   "source": []
  },
  {
   "cell_type": "code",
   "execution_count": null,
   "id": "5d089f23",
   "metadata": {},
   "outputs": [],
   "source": []
  },
  {
   "cell_type": "code",
   "execution_count": null,
   "id": "f03ab5f5",
   "metadata": {},
   "outputs": [],
   "source": []
  }
 ],
 "metadata": {
  "kernelspec": {
   "display_name": "Python 3 (ipykernel)",
   "language": "python",
   "name": "python3"
  },
  "language_info": {
   "codemirror_mode": {
    "name": "ipython",
    "version": 3
   },
   "file_extension": ".py",
   "mimetype": "text/x-python",
   "name": "python",
   "nbconvert_exporter": "python",
   "pygments_lexer": "ipython3",
   "version": "3.9.7"
  }
 },
 "nbformat": 4,
 "nbformat_minor": 5
}
