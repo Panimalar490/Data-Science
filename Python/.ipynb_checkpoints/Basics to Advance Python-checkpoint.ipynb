{
 "cells": [
  {
   "cell_type": "markdown",
   "id": "6d50c7ec",
   "metadata": {},
   "source": [
    "MyFirstProgram.py"
   ]
  },
  {
   "cell_type": "code",
   "execution_count": 6,
   "id": "ab50ce8d",
   "metadata": {},
   "outputs": [
    {
     "name": "stdout",
     "output_type": "stream",
     "text": [
      "What is your name? Minto\n",
      "Hi Minto, I'm glad to say: Hello world!\n"
     ]
    }
   ],
   "source": [
    "myname = input(\"What is your name? \")\n",
    "print(\"Hi \" + myname + \", I'm glad to say: Hello world!\")"
   ]
  },
  {
   "cell_type": "markdown",
   "id": "c12d12ea",
   "metadata": {},
   "source": [
    "Make Calculations"
   ]
  },
  {
   "cell_type": "code",
   "execution_count": 7,
   "id": "2bc02d1c",
   "metadata": {},
   "outputs": [
    {
     "data": {
      "text/plain": [
       "3"
      ]
     },
     "execution_count": 7,
     "metadata": {},
     "output_type": "execute_result"
    }
   ],
   "source": [
    "1 + 2"
   ]
  },
  {
   "cell_type": "code",
   "execution_count": 8,
   "id": "4571180d",
   "metadata": {},
   "outputs": [
    {
     "data": {
      "text/plain": [
       "0.78375"
      ]
     },
     "execution_count": 8,
     "metadata": {},
     "output_type": "execute_result"
    }
   ],
   "source": [
    "(1.045 * 3)/4"
   ]
  },
  {
   "cell_type": "code",
   "execution_count": 9,
   "id": "3822aea7",
   "metadata": {},
   "outputs": [
    {
     "data": {
      "text/plain": [
       "16"
      ]
     },
     "execution_count": 9,
     "metadata": {},
     "output_type": "execute_result"
    }
   ],
   "source": [
    "4 ** 2"
   ]
  },
  {
   "cell_type": "code",
   "execution_count": 10,
   "id": "724bba54",
   "metadata": {},
   "outputs": [
    {
     "data": {
      "text/plain": [
       "(-7+22j)"
      ]
     },
     "execution_count": 10,
     "metadata": {},
     "output_type": "execute_result"
    }
   ],
   "source": [
    "((4 + 5j) * (2 + 3j))"
   ]
  },
  {
   "cell_type": "code",
   "execution_count": 11,
   "id": "c33558de",
   "metadata": {},
   "outputs": [
    {
     "data": {
      "text/plain": [
       "True"
      ]
     },
     "execution_count": 11,
     "metadata": {},
     "output_type": "execute_result"
    }
   ],
   "source": [
    "4 < (2*3)"
   ]
  },
  {
   "cell_type": "code",
   "execution_count": 12,
   "id": "0468a6bc",
   "metadata": {},
   "outputs": [
    {
     "data": {
      "text/plain": [
       "40.8"
      ]
     },
     "execution_count": 12,
     "metadata": {},
     "output_type": "execute_result"
    }
   ],
   "source": [
    "a = 12 * 3.4\n",
    "a"
   ]
  },
  {
   "cell_type": "markdown",
   "id": "19dd220d",
   "metadata": {},
   "source": [
    "Import New Libraries and Functions"
   ]
  },
  {
   "cell_type": "code",
   "execution_count": 13,
   "id": "3064a282",
   "metadata": {},
   "outputs": [
    {
     "data": {
      "text/plain": [
       "0.040693257349864856"
      ]
     },
     "execution_count": 13,
     "metadata": {},
     "output_type": "execute_result"
    }
   ],
   "source": [
    "import math\n",
    "math.sin(a) #library_name.function_name()"
   ]
  },
  {
   "cell_type": "code",
   "execution_count": 14,
   "id": "57327f36",
   "metadata": {},
   "outputs": [
    {
     "data": {
      "text/plain": [
       "0.040693257349864856"
      ]
     },
     "execution_count": 14,
     "metadata": {},
     "output_type": "execute_result"
    }
   ],
   "source": [
    "#Even if this works properly, it is to be avoided for good practice. In fact, writing an \n",
    "# import in this way involves the importation of all functions without necessarily defining\n",
    "# the library to which they belong.\n",
    "from math import *\n",
    "sin(a)"
   ]
  },
  {
   "cell_type": "markdown",
   "id": "a298e6d9",
   "metadata": {},
   "source": [
    "Data Structure"
   ]
  },
  {
   "cell_type": "markdown",
   "id": "98e1f15b",
   "metadata": {},
   "source": [
    "The various data structures provided are defined differently depending on how their\n",
    "data are structured internally.\n",
    "• List\n",
    "• Set\n",
    "• Strings\n",
    "• Tuples\n",
    "• Dictionary\n",
    "• Deque\n",
    "• Heap"
   ]
  },
  {
   "cell_type": "markdown",
   "id": "f733b300",
   "metadata": {},
   "source": [
    "Dictionary"
   ]
  },
  {
   "cell_type": "code",
   "execution_count": 15,
   "id": "0673d5c8",
   "metadata": {},
   "outputs": [],
   "source": [
    "dict = {'name':'Mintu', 'age':25, 'city':'London'}"
   ]
  },
  {
   "cell_type": "code",
   "execution_count": 16,
   "id": "b90be1d8",
   "metadata": {},
   "outputs": [
    {
     "data": {
      "text/plain": [
       "'Mintu'"
      ]
     },
     "execution_count": 16,
     "metadata": {},
     "output_type": "execute_result"
    }
   ],
   "source": [
    "dict[\"name\"]"
   ]
  },
  {
   "cell_type": "code",
   "execution_count": 17,
   "id": "a4797182",
   "metadata": {},
   "outputs": [
    {
     "name": "stdout",
     "output_type": "stream",
     "text": [
      "name Mintu\n",
      "age 25\n",
      "city London\n"
     ]
    }
   ],
   "source": [
    "for key, value in dict.items():\n",
    "    print(key,value)"
   ]
  },
  {
   "cell_type": "markdown",
   "id": "d1b43fb2",
   "metadata": {},
   "source": [
    "List"
   ]
  },
  {
   "cell_type": "code",
   "execution_count": null,
   "id": "ec0092a2",
   "metadata": {},
   "outputs": [],
   "source": []
  }
 ],
 "metadata": {
  "kernelspec": {
   "display_name": "Python 3 (ipykernel)",
   "language": "python",
   "name": "python3"
  },
  "language_info": {
   "codemirror_mode": {
    "name": "ipython",
    "version": 3
   },
   "file_extension": ".py",
   "mimetype": "text/x-python",
   "name": "python",
   "nbconvert_exporter": "python",
   "pygments_lexer": "ipython3",
   "version": "3.9.7"
  }
 },
 "nbformat": 4,
 "nbformat_minor": 5
}
