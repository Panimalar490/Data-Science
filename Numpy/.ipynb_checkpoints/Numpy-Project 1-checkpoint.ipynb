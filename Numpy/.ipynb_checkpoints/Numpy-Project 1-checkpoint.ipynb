{
 "cells": [
  {
   "cell_type": "markdown",
   "id": "de614ad8",
   "metadata": {},
   "source": [
    "<b>Numpy Project 1 Airport cab data Analysis <br>\n",
    "    * Mean Speed of all rides <br>\n",
    "    * Number of Rides taken in February <br>\n",
    "    * Number of Rides where tip more than $50 <br>\n",
    "    * Number of Rides where drop was JFK airport <br>"
   ]
  },
  {
   "cell_type": "code",
   "execution_count": 20,
   "id": "2daa4816",
   "metadata": {},
   "outputs": [],
   "source": [
    "import numpy as np"
   ]
  },
  {
   "cell_type": "code",
   "execution_count": 21,
   "id": "89896212",
   "metadata": {},
   "outputs": [],
   "source": [
    "taxi=np.genfromtxt('nyc_taxis.csv',delimiter=',',skip_header=True)"
   ]
  },
  {
   "cell_type": "code",
   "execution_count": 22,
   "id": "d8bf07f4",
   "metadata": {},
   "outputs": [],
   "source": [
    "# Speed = Distance/Time\n",
    "# we have taken here the 8 and 9 th column; 8th column 'Speed' and 9th column 'Trip_Length' in seconds.\n",
    "# Here we need by hours. so, divide with 3600 \n",
    "speed=taxi[:,7]/(taxi[:,8]/3600)"
   ]
  },
  {
   "cell_type": "code",
   "execution_count": 23,
   "id": "6f849e3b",
   "metadata": {},
   "outputs": [
    {
     "name": "stdout",
     "output_type": "stream",
     "text": [
      "32.24258580925573\n"
     ]
    }
   ],
   "source": [
    "mean_speed=speed.mean()\n",
    "print(mean_speed)"
   ]
  },
  {
   "cell_type": "markdown",
   "id": "585bb707",
   "metadata": {},
   "source": [
    "<b> Mean Speed of all rides : 32 miles per hour"
   ]
  },
  {
   "cell_type": "code",
   "execution_count": 24,
   "id": "04c69216",
   "metadata": {},
   "outputs": [
    {
     "data": {
      "text/plain": [
       "array([False, False, False, ..., False, False, False])"
      ]
     },
     "execution_count": 24,
     "metadata": {},
     "output_type": "execute_result"
    }
   ],
   "source": [
    "# Calculate the number of Rides taken in the month of February.\n",
    "# in our data set the value denoted by 2 on \"Pick up month column\"\n",
    "taxi[:,1]==2"
   ]
  },
  {
   "cell_type": "code",
   "execution_count": 25,
   "id": "ce533f09",
   "metadata": {},
   "outputs": [
    {
     "name": "stdout",
     "output_type": "stream",
     "text": [
      "13333\n"
     ]
    }
   ],
   "source": [
    "# We go for boolean and the row\n",
    "rides_feb=taxi[taxi[:,1]==2,1]\n",
    "print(rides_feb.shape[0])"
   ]
  },
  {
   "cell_type": "markdown",
   "id": "8c40324b",
   "metadata": {},
   "source": [
    "<b> Number of Rides taken in February is 13333"
   ]
  },
  {
   "cell_type": "code",
   "execution_count": 26,
   "id": "f11299d3",
   "metadata": {},
   "outputs": [
    {
     "name": "stdout",
     "output_type": "stream",
     "text": [
      "16\n"
     ]
    }
   ],
   "source": [
    "# Calculate the number of rides with a tip greater than $50\n",
    "# Here in data set the \"Tip Amunt column\" presentin 3rd column from Last\n",
    "Tip_amt=taxi[taxi[:,-3]>50,-3]\n",
    "print(Tip_amt.shape[0])"
   ]
  },
  {
   "cell_type": "markdown",
   "id": "960c30ef",
   "metadata": {},
   "source": [
    "<b> Number of Rides by people where tip more than $50 is 16"
   ]
  },
  {
   "cell_type": "code",
   "execution_count": 27,
   "id": "4ddf60c3",
   "metadata": {},
   "outputs": [
    {
     "name": "stdout",
     "output_type": "stream",
     "text": [
      "11832\n"
     ]
    }
   ],
   "source": [
    "# Calculate the number of rides where drop was JFK airport\n",
    "dropoff=taxi[taxi[:,6]==2,6]\n",
    "print(dropoff.shape[0])"
   ]
  },
  {
   "cell_type": "markdown",
   "id": "fef24de2",
   "metadata": {},
   "source": [
    "<b> the number of rides where drop was JFK airport is 11832"
   ]
  },
  {
   "cell_type": "code",
   "execution_count": null,
   "id": "289004b5",
   "metadata": {},
   "outputs": [],
   "source": []
  },
  {
   "cell_type": "code",
   "execution_count": null,
   "id": "65b615f6",
   "metadata": {},
   "outputs": [],
   "source": []
  }
 ],
 "metadata": {
  "kernelspec": {
   "display_name": "Python 3 (ipykernel)",
   "language": "python",
   "name": "python3"
  },
  "language_info": {
   "codemirror_mode": {
    "name": "ipython",
    "version": 3
   },
   "file_extension": ".py",
   "mimetype": "text/x-python",
   "name": "python",
   "nbconvert_exporter": "python",
   "pygments_lexer": "ipython3",
   "version": "3.9.7"
  }
 },
 "nbformat": 4,
 "nbformat_minor": 5
}
